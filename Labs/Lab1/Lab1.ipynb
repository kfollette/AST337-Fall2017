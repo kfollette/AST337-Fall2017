{
 "cells": [
  {
   "cell_type": "markdown",
   "metadata": {},
   "source": [
    "# AST 337 In-Class Lab #1 \n",
    "### Wednesday, September 6, 2017\n",
    "\n",
    "In this lab, you'll learn to read in and manipulate tabular data with the python package pandas and plot that data with the plotting module _matplotlib.pyplot_. \n",
    "\n",
    "On the science end, you will compare H-R diagrams for two different open star clusters, a globular cluster, and a  population of field (non-cluster) stars."
   ]
  },
  {
   "cell_type": "code",
   "execution_count": null,
   "metadata": {
    "collapsed": false
   },
   "outputs": [],
   "source": [
    "#load packages\n",
    "import pandas as pd \n",
    "import numpy as np\n",
    "import matplotlib.pyplot as plt\n",
    "%matplotlib inline"
   ]
  },
  {
   "cell_type": "markdown",
   "metadata": {},
   "source": [
    "First off, we'll need to read in the data with the pandas function *read_csv*. A basic example is given below:"
   ]
  },
  {
   "cell_type": "code",
   "execution_count": null,
   "metadata": {
    "collapsed": false
   },
   "outputs": [],
   "source": [
    "pleiades = pd.read_csv('pleiades.csv')"
   ]
  },
  {
   "cell_type": "markdown",
   "metadata": {},
   "source": [
    "\"pleiades\" is now a pandas dataframe object, which is essentially a form of python table. To see what's stored in pleiades, execute the cell below. Anywhere you see ..., that means that there are a number of additional columns or rows that have been hidden. "
   ]
  },
  {
   "cell_type": "code",
   "execution_count": null,
   "metadata": {
    "collapsed": false
   },
   "outputs": [],
   "source": [
    "pleiades"
   ]
  },
  {
   "cell_type": "markdown",
   "metadata": {},
   "source": [
    "Perhaps more useful are the pandas .columns and .dtypes methods. Execute the cells below and then edit the descriptions of what each does in the cell below (double click on this text to get into the markdown cell, where you can type regular text)\n",
    "\n",
    "(1) The .columns method does....\n",
    "\n",
    "(2) The .dtypes method does...."
   ]
  },
  {
   "cell_type": "code",
   "execution_count": null,
   "metadata": {
    "collapsed": false
   },
   "outputs": [],
   "source": [
    "pleiades.columns"
   ]
  },
  {
   "cell_type": "code",
   "execution_count": null,
   "metadata": {
    "collapsed": false
   },
   "outputs": [],
   "source": [
    "pleiades.dtypes"
   ]
  },
  {
   "cell_type": "markdown",
   "metadata": {},
   "source": [
    "The two columns that we care about for this lab are the Temperature (Teff) and the Luminosity (Lbol). The units for these two columns are Kelvin and Solar luminosities, respectively. As you will label these later in your plots, I'll note here that there's a special trick for getting the sun symbol in a Markdown cell using the typesetting system LaTeX. \n",
    "\n",
    "Solar Luminosities = L$_{\\odot}$\n",
    "\n",
    "Double click on this cell to see how I made the symbol above. \n",
    "\n",
    "Let's create a pandas series that we can manipulate from each of the columns of interest.  "
   ]
  },
  {
   "cell_type": "code",
   "execution_count": null,
   "metadata": {
    "collapsed": false
   },
   "outputs": [],
   "source": [
    "pleiades_L = pleiades[\"Lbol\"]\n",
    "pleiades_T = pleiades[\"Teff\"]"
   ]
  },
  {
   "cell_type": "markdown",
   "metadata": {},
   "source": [
    "Note though from your .dtypes output above that both of these columns have dtype \"object\", which is not a data type that will allow us to manipulate them. For example, try executing the cell below, where we attempt to subtract the value 2 from each entry in the \"pleiades_L\" column. You should get an error..."
   ]
  },
  {
   "cell_type": "code",
   "execution_count": null,
   "metadata": {
    "collapsed": false
   },
   "outputs": [],
   "source": [
    "pleiades_L = pleiades_L - 2"
   ]
  },
  {
   "cell_type": "markdown",
   "metadata": {},
   "source": [
    "So we want to convert the type of these pandas series to be numeric, which we do with pandas.to_numeric, as below:"
   ]
  },
  {
   "cell_type": "code",
   "execution_count": null,
   "metadata": {
    "collapsed": false
   },
   "outputs": [],
   "source": [
    "pleiades_L_new = pd.to_numeric(pleiades_L, errors='coerce')\n",
    "pleiades_T_new = pd.to_numeric(pleiades_T, errors='coerce')\n",
    "# With \"coerce\", we are telling the to_numeric function to change any invalid entries to NaNs."
   ]
  },
  {
   "cell_type": "markdown",
   "metadata": {},
   "source": [
    "Now let's print the first ten elements of each array to verify that nothing weird happened during this conversion. "
   ]
  },
  {
   "cell_type": "code",
   "execution_count": null,
   "metadata": {
    "collapsed": false
   },
   "outputs": [],
   "source": [
    "pleiades_L[0:10], pleiades_L_new[0:10], pleiades_T[0:10], pleiades_T_new[0:10]"
   ]
  },
  {
   "cell_type": "markdown",
   "metadata": {},
   "source": [
    "Now let's plot these two quantities against one another. There are many ways to plot in pyplot, but I'll use the one that I find to work most consistently and intuitively below. "
   ]
  },
  {
   "cell_type": "code",
   "execution_count": null,
   "metadata": {
    "collapsed": false
   },
   "outputs": [],
   "source": [
    "fig,ax = plt.subplots(figsize=(7,7))\n",
    "ax.plot(pleiades_T_new, pleiades_L_new)"
   ]
  },
  {
   "cell_type": "markdown",
   "metadata": {},
   "source": [
    "Yikes, that's ugly, right? That's because the default plot symbol is a line connecting all the points. In this case what we really want is a so-called scatterplot, which we can do easily by specifying the plotting marker right after the y variable, as below. Below I use 'o', which stands for the circle symbol. For the full list of matplotlib symbols, see [this link](https://matplotlib.org/api/markers_api.html)."
   ]
  },
  {
   "cell_type": "code",
   "execution_count": null,
   "metadata": {
    "collapsed": false
   },
   "outputs": [],
   "source": [
    "fig,ax = plt.subplots(figsize=(7,7))\n",
    "ax.plot(pleiades_T_new, pleiades_L_new, 'o')"
   ]
  },
  {
   "cell_type": "markdown",
   "metadata": {},
   "source": [
    "Note the default plotting color is blue, but you can change this easily by adding a color shorthand before the marker shorthand. Below I use 'g' for green, but here again, there are lots of options, as outlined at [this link](https://matplotlib.org/api/colors_api.html)."
   ]
  },
  {
   "cell_type": "code",
   "execution_count": null,
   "metadata": {
    "collapsed": false
   },
   "outputs": [],
   "source": [
    "fig,ax = plt.subplots(figsize=(7,7))\n",
    "ax.plot(pleiades_T_new, pleiades_L_new, 'go')"
   ]
  },
  {
   "cell_type": "markdown",
   "metadata": {},
   "source": [
    "Colors notwithstanding, this plot is still very ugly and should not look much like an H-R diagram to you. For one thing, H-R diagrams usually have log(Luminosity) on the y-axis, which you do as follows:"
   ]
  },
  {
   "cell_type": "code",
   "execution_count": null,
   "metadata": {
    "collapsed": false
   },
   "outputs": [],
   "source": [
    "fig,ax = plt.subplots(figsize=(7,7))\n",
    "ax.plot(pleiades_T_new, pleiades_L_new, 'go')\n",
    "ax.set_yscale('log')"
   ]
  },
  {
   "cell_type": "markdown",
   "metadata": {},
   "source": [
    "OK that's much nicer, but should still look backwards to you, because we always draw H-R Diagrams with the Temperature axis running from high to low temperature. This is a pretty easy fix too."
   ]
  },
  {
   "cell_type": "code",
   "execution_count": null,
   "metadata": {
    "collapsed": false
   },
   "outputs": [],
   "source": [
    "fig,ax = plt.subplots(figsize=(7,7))\n",
    "ax.plot(pleiades_T_new, pleiades_L_new, 'go')\n",
    "ax.set_yscale('log')\n",
    "ax.set_xlim(11000,1000)"
   ]
  },
  {
   "cell_type": "markdown",
   "metadata": {},
   "source": [
    "OK! This is starting to look like a good H-R diagram, but without a plot title or axis labels, it's still not very good, so let's add those. "
   ]
  },
  {
   "cell_type": "code",
   "execution_count": null,
   "metadata": {
    "collapsed": false
   },
   "outputs": [],
   "source": [
    "fig,ax = plt.subplots(figsize=(7,7))\n",
    "ax.plot(pleiades_T_new, pleiades_L_new, 'go')\n",
    "ax.set_yscale('log')\n",
    "ax.set_xlim(11000,1000)\n",
    "plt.title('H-R Diagram for the Pleiades')\n",
    "plt.xlabel('Temperature (in K)')\n",
    "plt.ylabel('log(Luminosity (in L$_{\\odot}$))')"
   ]
  },
  {
   "cell_type": "markdown",
   "metadata": {},
   "source": [
    "# Exercise 1\n",
    "\n",
    "Now it's time for you to do some exploring with the rest of the data. For each of the remaining four data files in the Lab 1 directory:   \n",
    "\n",
    "1) read in the data  \n",
    "\n",
    "2) find the columns for luminosity and temperature \n",
    "\n",
    "(note that some of the raw data has units of log(L) or log(T), which you'll have to \"undo\" to get the regular units of L and T. Refer to the Homework0 Exercise #1 if you can't remember how)\n",
    "\n",
    "3) assign the relevant columns to pandas series and convert data types to numeric as necessary   \n",
    "\n",
    "4) make a plot of the data with appropriate axis labels, ranges, a plot title, etc.    "
   ]
  },
  {
   "cell_type": "code",
   "execution_count": 15,
   "metadata": {
    "collapsed": false
   },
   "outputs": [],
   "source": [
    "## Add code here to read in the other three files in the Lab 1 directory, and give them descriptive variable names."
   ]
  },
  {
   "cell_type": "code",
   "execution_count": 17,
   "metadata": {
    "collapsed": false
   },
   "outputs": [],
   "source": [
    "## Add code here to identify the column labels for luminosity and temperature. Be careful - columns may not have\n",
    "## the same names, and be sure to check the units of the quantities."
   ]
  },
  {
   "cell_type": "code",
   "execution_count": null,
   "metadata": {
    "collapsed": false
   },
   "outputs": [],
   "source": [
    "## Convert to pandas series and data types, if necessary."
   ]
  },
  {
   "cell_type": "code",
   "execution_count": 16,
   "metadata": {
    "collapsed": false
   },
   "outputs": [],
   "source": [
    "## Plot the data in this cell and the following cells for each sample."
   ]
  },
  {
   "cell_type": "code",
   "execution_count": null,
   "metadata": {
    "collapsed": false
   },
   "outputs": [],
   "source": []
  },
  {
   "cell_type": "code",
   "execution_count": null,
   "metadata": {
    "collapsed": false
   },
   "outputs": [],
   "source": []
  },
  {
   "cell_type": "code",
   "execution_count": null,
   "metadata": {
    "collapsed": true
   },
   "outputs": [],
   "source": []
  },
  {
   "cell_type": "markdown",
   "metadata": {},
   "source": [
    "# Exercise 2 (Multi-Panel Plots)\n",
    "\n",
    "The individual plots for each of these clusters are nice, but really we'd like to be able to compare them side-by-side. You can do this by making either a multi-panel plot, or an overlapping plot. A skeleton outline of how to do each is below. Please use this as a framework to make similar plots with our data."
   ]
  },
  {
   "cell_type": "code",
   "execution_count": null,
   "metadata": {
    "collapsed": false
   },
   "outputs": [],
   "source": [
    "#some fake data\n",
    "data_x = np.arange(0,100)\n",
    "data_y = 3*data_x\n",
    "data_y2 = data_x**2\n",
    "data_y3 = data_x + 20\n",
    "data_y4 = np.sqrt(data_x)"
   ]
  },
  {
   "cell_type": "code",
   "execution_count": null,
   "metadata": {
    "collapsed": false
   },
   "outputs": [],
   "source": [
    "# multipanel plot example\n",
    "fig,((ax1,ax2),(ax3,ax4)) = plt.subplots(2, 2, figsize=(10,10))\n",
    "fig.suptitle('This is a title for my multipanel plot')\n",
    "ax1.plot(data_x, data_y, 'go')\n",
    "ax1.set_title('Figure 1 Title')\n",
    "ax1.set_xlabel('x label')\n",
    "ax1.set_ylabel('y label')\n",
    "ax2.plot(data_x, data_y2, 'bo')\n",
    "ax2.set_title('Figure 2 Title')\n",
    "ax2.set_xlabel('x label')\n",
    "ax2.set_ylabel('y label')\n",
    "ax3.plot(data_x, data_y3, 'ro')\n",
    "ax3.set_title('Figure 3 Title')\n",
    "ax3.set_xlabel('x label')\n",
    "ax3.set_ylabel('y label')\n",
    "ax4.plot(data_x, data_y4, 'mo')\n",
    "ax4.set_title('Figure 4 Title')\n",
    "ax4.set_xlabel('x label')\n",
    "ax4.set_ylabel('y label')"
   ]
  },
  {
   "cell_type": "code",
   "execution_count": null,
   "metadata": {
    "collapsed": false
   },
   "outputs": [],
   "source": [
    "#overlay plot example\n",
    "fig,ax = plt.subplots(figsize=(10,10))\n",
    "plt.title('This is a title for my multipanel plot')\n",
    "ax.plot(data_x, data_y, 'go', label='legend entry 1', alpha=0.5)\n",
    "ax.plot(data_x, data_y2, 'bo', label='legend entry 2', alpha=0.5)\n",
    "ax.plot(data_x, data_y3, 'ro', label='legend entry 2', alpha=0.5)\n",
    "ax.plot(data_x, data_y4, 'mo', label='legend entry 2', alpha=0.5)\n",
    "ax.set_title('Figure Title')\n",
    "ax.set_xlabel('x label')\n",
    "ax.set_ylabel('y label')\n",
    "plt.legend(numpoints=1)\n",
    "#TRY EXECUTING WITH AND WITHOUT THE FOLLOWING LINE. HERE AND IN THE DATA YOU'LL BE PLOTTING, \n",
    "#A SUBJECTIVE DECISION MUST BE MADE ABOUT AXIS RANGES\n",
    "ax.set_ylim(0,200)"
   ]
  },
  {
   "cell_type": "code",
   "execution_count": null,
   "metadata": {
    "collapsed": true
   },
   "outputs": [],
   "source": [
    "## In this cell, create your own overlay plot showing the different populations. Hint: You may want to plot the \n",
    "## sample with the most data points first."
   ]
  },
  {
   "cell_type": "code",
   "execution_count": null,
   "metadata": {
    "collapsed": false
   },
   "outputs": [],
   "source": [
    "## In this cell, create a multi-panel plot for the different populations."
   ]
  },
  {
   "cell_type": "markdown",
   "metadata": {},
   "source": [
    "# Exercise 3 (Comprehension Questions)\n",
    "\n",
    "1) Describe the differences between the H-R diagrams. Do this both qualitatively (note differences in their appearance) and quantitatively. You might find methods like .min and .max to be useful here.\n",
    "\n",
    "2) Which of the four groups of stars has stars that are NOT on the main sequence, and which don't? Why, do you think?\n",
    "\n",
    "3) Why do you think the low temperature (M-dwarf) end of the main sequence cuts off at such a different place in the four samples? Do you think this is a physical effect or an instrumental one and why?\n",
    "\n",
    "4) Why do you think there are no white dwarfs in any of the samples besides the field sample?"
   ]
  },
  {
   "cell_type": "code",
   "execution_count": null,
   "metadata": {
    "collapsed": true
   },
   "outputs": [],
   "source": [
    "## Your answers to each of the four questions here."
   ]
  }
 ],
 "metadata": {
  "anaconda-cloud": {},
  "kernelspec": {
   "display_name": "Python 2",
   "language": "python",
   "name": "python2"
  },
  "language_info": {
   "codemirror_mode": {
    "name": "ipython",
    "version": 2
   },
   "file_extension": ".py",
   "mimetype": "text/x-python",
   "name": "python",
   "nbconvert_exporter": "python",
   "pygments_lexer": "ipython2",
   "version": "2.7.12"
  }
 },
 "nbformat": 4,
 "nbformat_minor": 1
}
