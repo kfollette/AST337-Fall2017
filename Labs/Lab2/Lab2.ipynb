{
 "cells": [
  {
   "cell_type": "markdown",
   "metadata": {},
   "source": [
    "# AST 337 In-Class Lab #2\n",
    "### Wednesday, September 13, 2017\n",
    "\n",
    "### _Names: [insert your names here]_\n",
    "\n",
    "***\n",
    "\n",
    "In this lab, you will (1) work directly with published astronomical data from the _VizieR_ database, (2) continue using pandas and matplotlib to read, manipulate, and plot datasets, and (3) gain experience writing functions. \n",
    "\n",
    "On the science end, you will create color-magnitude diagrams -- the observer's H-R diagram -- for various stellar populations, compare the clusters, and relate these to the results from last week. "
   ]
  },
  {
   "cell_type": "code",
   "execution_count": null,
   "metadata": {
    "collapsed": false
   },
   "outputs": [],
   "source": [
    "# Load packages\n",
    "import pandas as pd \n",
    "import numpy as np\n",
    "import matplotlib.pyplot as plt\n",
    "%matplotlib inline"
   ]
  },
  {
   "cell_type": "markdown",
   "metadata": {},
   "source": [
    "The first step is to download the datasets we need from VizieR for the following clusters:\n",
    "* M22 (globular cluster) -- _BVI photometry of M22_ (Monaco+, 2004) -- **we'll download this one together as a class**\n",
    "* M4 (globular cluster) -- _M4 UBV color-magnitude diagrams_ (Mochejska+, 2002) \n",
    "* M67 (open cluster) -- _BVI photometry in M67_ (Stassun+, 2002) \n",
    "* NGC 188 (open cluster) -- _A star catalog for the open cluster NGC 188_ (Stetson+, 2004) \n",
    "\n",
    "Save each of these as semicolon delimited .tsv files in the directory with this notebook."
   ]
  },
  {
   "cell_type": "markdown",
   "metadata": {},
   "source": [
    "First, we'll need to read the datasets into pandas, as we did in last week's lab. However, VizieR gives us more information than just the raw data to look at, so we'll need to give pd.read_csv additional information so it can parse the datafile. \n",
    "\n",
    "Let's first look at the actual M22 datafile, by opening the file in Jupyter's text editor mode. Go back to the browser tab with the directory containing this notebook, and double-click on the file you just saved, M22.tsv. Take a look at the contents of the file, then come back to this notebook."
   ]
  },
  {
   "cell_type": "markdown",
   "metadata": {},
   "source": [
    "#### Questions:\n",
    "\n",
    "<p>1) What information is contained in the header?</p>\n",
    "-\n",
    "\n",
    "<p>2) How many commented \"#\" lines are there before the dataset begins? (see the line numbers)</p>\n",
    "-"
   ]
  },
  {
   "cell_type": "markdown",
   "metadata": {
    "collapsed": false
   },
   "source": [
    "As useful as the header information is for us, pandas only needs to know where the data values start and what the column headers are. \n",
    "\n",
    "To help pandas parse the data easily, edit the text file in the other Jupyter tab to add the '#' symbol at the beginnings of the two rows describing the column units and dashed lines. Be sure to save the text file!\n",
    "\n",
    "We will now tell pandas to skip any commented rows and that the file is semicolon delimited by adding parameters to the read_csv function, separated by commas:\n",
    "* comment = '#'\n",
    "* delimiter = ';'\n",
    "\n",
    "**EDIT** the cell below to add these parameters to the regular pd.read_csv command, then run the cell to read in the file."
   ]
  },
  {
   "cell_type": "code",
   "execution_count": null,
   "metadata": {
    "collapsed": false
   },
   "outputs": [],
   "source": [
    "m22 = pd.read_csv('M22.tsv')"
   ]
  },
  {
   "cell_type": "markdown",
   "metadata": {},
   "source": [
    "As before, we would like to check the table and its contents: "
   ]
  },
  {
   "cell_type": "code",
   "execution_count": null,
   "metadata": {
    "collapsed": false
   },
   "outputs": [],
   "source": [
    "m22"
   ]
  },
  {
   "cell_type": "markdown",
   "metadata": {},
   "source": [
    "And we would like to check the column headers of the dataset and the data types (dtypes). Do so in the following two cells for the M22 dataset. "
   ]
  },
  {
   "cell_type": "code",
   "execution_count": null,
   "metadata": {
    "collapsed": false
   },
   "outputs": [],
   "source": [
    "# Check the columns here"
   ]
  },
  {
   "cell_type": "code",
   "execution_count": null,
   "metadata": {
    "collapsed": false
   },
   "outputs": [],
   "source": [
    "# Check the datatypes here. Do any columns need to be converted from object to float?"
   ]
  },
  {
   "cell_type": "markdown",
   "metadata": {
    "collapsed": false
   },
   "source": [
    "## Calculating values for color-magnitude diagrams (CMDs)\n",
    "\n",
    "We are most interested in the measured B and V magnitude columns for the stars in these clusters. However, these are both _apparent_ magnitudes, and we want to use absolute magnitude for the V vs. B-V color-magnitude diagram. \n",
    "\n",
    "Therefore, for each dataset we downloaded, we will need to do four things:\n",
    "\n",
    "* Read in the datafiles.\n",
    "\n",
    "* Ensure the data columns we want to manipulate have the appropriate data type. (Depending on the dataset, we might need to use the pd.to_numeric function, as in Lab1.)\n",
    "\n",
    "* Use the apparent magnitude and distance to calculate the absolute V magnitude (Y-axis proxy for luminosity).\n",
    "\n",
    "* Use the B and V magnitudes to calculate the color (X-axis proxy for temperature).\n",
    "\n",
    "In the next steps, we are going to calculate new pandas series for absolute V magnitude and B-V color and add them to our existing M22 dataframe."
   ]
  },
  {
   "cell_type": "markdown",
   "metadata": {},
   "source": [
    "#### Questions:\n",
    "<p>3) What quantities are needed to calculate an absolute magnitude?</p>\n",
    "    -\n",
    "\n",
    "<p>4) Do we need to use apparent magnitudes or absolute magnitudes to calculate the B-V color? Why?</p>\n",
    "    -"
   ]
  },
  {
   "cell_type": "markdown",
   "metadata": {},
   "source": [
    "### Adding a new column to an existing pandas dataframe\n",
    "\n",
    "For the X-axis of our CMD, we want to add a column to our existing data frame with the new calculated B-V value. With pandas, this is very simple -- all we have to do is define a new column label, and subtract the existing columns!\n",
    "\n",
    "Let's first remind ourselves what the M22 dataframe/table looks like right now. We can view a snippet of the top of the table by using the following method, which shows the first five rows only:"
   ]
  },
  {
   "cell_type": "code",
   "execution_count": null,
   "metadata": {
    "collapsed": false
   },
   "outputs": [],
   "source": [
    "m22.head()"
   ]
  },
  {
   "cell_type": "markdown",
   "metadata": {},
   "source": [
    "In pandas, dataframes have both \"heads\" and \"tails\". What do you expect the \"tail\" method to do? Try in the cell below."
   ]
  },
  {
   "cell_type": "code",
   "execution_count": null,
   "metadata": {
    "collapsed": false
   },
   "outputs": [],
   "source": []
  },
  {
   "cell_type": "markdown",
   "metadata": {},
   "source": [
    "Now add a new column for B-V color to the existing M22 dataframe. We can label this column whatever we like, _as long as the label isn't already used for a different column_ -- if the column label already exists, it will overwrite it!  \n",
    "\n",
    "Let's label the new column \"BVcolor\", the values of which are the differences between values in the existing B and V columns:"
   ]
  },
  {
   "cell_type": "code",
   "execution_count": null,
   "metadata": {
    "collapsed": true
   },
   "outputs": [],
   "source": [
    "m22['BVcolor'] = m22['Bmag'] - m22['Vmag']"
   ]
  },
  {
   "cell_type": "markdown",
   "metadata": {},
   "source": [
    "Did that work? Check by viewing the table in the cell below. "
   ]
  },
  {
   "cell_type": "code",
   "execution_count": null,
   "metadata": {
    "collapsed": false
   },
   "outputs": [],
   "source": [
    "m22.head() # Could also do m22.columns"
   ]
  },
  {
   "cell_type": "markdown",
   "metadata": {},
   "source": [
    "What if we wanted to calculate the V-I color instead of B-V? Add a new V-I column to the dataframe, and check to ensure the dataframe has updated:"
   ]
  },
  {
   "cell_type": "code",
   "execution_count": null,
   "metadata": {
    "collapsed": false
   },
   "outputs": [],
   "source": [
    "# Calculate a new column labeled \"VIcolor\""
   ]
  },
  {
   "cell_type": "code",
   "execution_count": null,
   "metadata": {
    "collapsed": false
   },
   "outputs": [],
   "source": [
    "# Check for the updated dataframe column"
   ]
  },
  {
   "cell_type": "markdown",
   "metadata": {},
   "source": [
    "### A brief overview of functions in python"
   ]
  },
  {
   "cell_type": "markdown",
   "metadata": {},
   "source": [
    "Programs often involve tasks that must be done repetitively, or there are tasks that we want to perform that are common to many programs. We will write a function that uses the distance modulus equation and calculates absolute magnitudes.\n",
    "\n",
    "An example of a standard python function is the logarithm function, which is built into python within the _numpy_ package (short for \"numerical python\"). We saw last week that `np.log10` takes the base 10 logarithm of the input, and returns the corresponding power:"
   ]
  },
  {
   "cell_type": "code",
   "execution_count": null,
   "metadata": {
    "collapsed": false
   },
   "outputs": [],
   "source": [
    "input_value = 1000.0 # define a variable\n",
    "return_value = np.log10(input_value) # use that variable within a function\n",
    "print(return_value) # print the output of the function, which has been saved to the new variable \"return_value\""
   ]
  },
  {
   "cell_type": "markdown",
   "metadata": {},
   "source": [
    "There are many, many reasons why one might want to take the log of something, so it is useful to have the log function defined once and for all in a standard python package. This way, any program that needs to take the log can do so, rather than having the user come up with it again and again. But what if the function we want to use does not exist in python?\n",
    "\n",
    "The capability that we are seeking is provided by defining new functions. This allows us to make our own functions that are just like the log function, and can be called in a similar way. Functions are defined by the following syntax:"
   ]
  },
  {
   "cell_type": "code",
   "execution_count": null,
   "metadata": {
    "collapsed": true
   },
   "outputs": [],
   "source": [
    "def myfunc(arg1, arg2):\n",
    "    \"\"\"\n",
    "    This is a function that does nothing in particular\n",
    "    \"\"\" \n",
    "    print(\"I am a function! Here are my arguments:\")\n",
    "    print(arg1)\n",
    "    print(arg2)\n",
    "    print(\"I am returning my first argument now!\")\n",
    "    return(arg1)"
   ]
  },
  {
   "cell_type": "markdown",
   "metadata": {},
   "source": [
    "This defines a very simple function. Let's walk through this declaration step by step: \n",
    "\n",
    "The first line begins with _def_, then the name of the function, and then in parentheses a list of arguments for the function, then a colon. Arguments are inputs to the function. For example, the `np.sin` function takes an angle as an argument, and calculates the sine of that angle. In this example our function has two arguments. The number of arguments is arbitrary, and can be zero, in which case the parentheses are just left empty. It is also possible to write functions where the number of arguments is variable, and need not be the same every time the function is called.\n",
    "\n",
    "After the define line, we begin the body of the function. Note that all the lines in the function body are indented. This indentation is IMPORTANT. In python, indentation is used to indicate that a particular line belongs to a particular function, loop, or other block of code. All the lines of the function are indented four spaces. If you're using entering this manually in ipython, either at the command line or in the notebook, you don't need to type in those four spaces by hand; the ipython shell will automatically enter them for you after seeing the def line. If you're using emacs or another text editor, you can just hit the tab key and the correct number of spaces will be entered for you.\n",
    "\n",
    "Within the body of the function, we can enter whatever commands we like. We can print things, for example. Or do a calculation. The arguments in that appeared in parentheses in the definition are accessible within the function, and can be manipulated however we like.\n",
    "\n",
    "At the end of the function, we have a statement that begins return. A return function causes the function to give back a value, which the calling program can print, assign to a variable, or do something else with. For example, the `np.log10` function returns the base 10 log for any positive number (or **array** of numbers!). Return values are optional: functions don't have to return anything, and can just end.\n",
    "\n",
    "OK, with that in mind, let's run the `myfunc` function above, with a string and a float number as input arguments:"
   ]
  },
  {
   "cell_type": "code",
   "execution_count": null,
   "metadata": {
    "collapsed": false
   },
   "outputs": [],
   "source": [
    "myfunc('star', 3.14159265)"
   ]
  },
  {
   "cell_type": "markdown",
   "metadata": {},
   "source": [
    "Note that `myfunc` includes something called a _\"docstring\"_ (denoted with the triple quotations at the start and end). This is a description of what the function does and is visible when call that function with a question mark (as below). Many companies (e.g. Google) have extensive rules about what should be included in a docstring. For example, <a href=\"http://sphinxcontrib-napoleon.readthedocs.io/en/latest/example_google.html\">here</a> is a sample Google docstring. \n",
    "\n",
    "Generally speaking, docstrings should include a description of what the function does, some notes about the input and output, and specifics about any optional inputs (\"keywords\") and what they do. Keep your eye out for these as we proceed as we'll be asking you to include docstrings with all of the functions that you write this semester. \n",
    "\n",
    "You can view the docstring for any function in python (built-in ones, and ones you write yourself!) using the question mark. Try it below:"
   ]
  },
  {
   "cell_type": "code",
   "execution_count": null,
   "metadata": {
    "collapsed": true
   },
   "outputs": [],
   "source": [
    "myfunc?"
   ]
  },
  {
   "cell_type": "markdown",
   "metadata": {},
   "source": [
    "Try writing a simple function below called `test_function` that takes two numbers _a_ and _b_ as input, multiplies them togther, then divides the product by 2.0, and returns the answer."
   ]
  },
  {
   "cell_type": "code",
   "execution_count": null,
   "metadata": {
    "collapsed": true
   },
   "outputs": [],
   "source": [
    "def test_function(a,b):\n",
    "    # Your docstring goes here, in triple quotations\n",
    "    # Your code goes here\n",
    "    # Your return statement goes here"
   ]
  },
  {
   "cell_type": "markdown",
   "metadata": {},
   "source": [
    "If all went according to plan, the following should return the value 42:"
   ]
  },
  {
   "cell_type": "code",
   "execution_count": null,
   "metadata": {
    "collapsed": false
   },
   "outputs": [],
   "source": [
    "answer_to_life_the_universe_and_everything = test_function(28,3)\n",
    "\n",
    "print(answer_to_life_the_universe_and_everything)"
   ]
  },
  {
   "cell_type": "markdown",
   "metadata": {},
   "source": [
    "### Using a function to calculate absolute magnitude \n",
    "\n",
    "Recall that the distance modulus equation is as follows:\n",
    "\n",
    "$M - m = -5 log10(d) + 5$"
   ]
  },
  {
   "cell_type": "markdown",
   "metadata": {},
   "source": [
    "In the cell below, write a function called `absmagcalc` that takes in two variables (distance in parsecs and apparent magnitude), calculates the absolute magnitude, then returns the value of the absolute magnitude."
   ]
  },
  {
   "cell_type": "code",
   "execution_count": null,
   "metadata": {
    "collapsed": true
   },
   "outputs": [],
   "source": [
    "# Write your function here (don't forget a docstring!):\n"
   ]
  },
  {
   "cell_type": "markdown",
   "metadata": {},
   "source": [
    "Let's test your new function with the Sun, which has an apparent magnitude of -26.74. The Sun is, on average, located at a distance of 4.848e-6 pc from Earth. \n",
    "\n",
    "#### Question:\n",
    "5) What is the absolute magnitude of the Sun? "
   ]
  },
  {
   "cell_type": "code",
   "execution_count": null,
   "metadata": {
    "collapsed": false
   },
   "outputs": [],
   "source": [
    "# Use your new function here:\n"
   ]
  },
  {
   "cell_type": "markdown",
   "metadata": {},
   "source": [
    "Now that we have a handy function to calculate absolute magnitudes from apparent ones, we can add a new column for absolute magnitude to our existing dataframe. First, we'll need the approximate distances to each of the clusters, provided here."
   ]
  },
  {
   "cell_type": "code",
   "execution_count": null,
   "metadata": {
    "collapsed": true
   },
   "outputs": [],
   "source": [
    "# all values in parsecs\n",
    "dist_m22 = 3000.0\n",
    "dist_ngc188 = 1770.0\n",
    "dist_m67 = 850.0\n",
    "dist_m4 = 1904.5 "
   ]
  },
  {
   "cell_type": "markdown",
   "metadata": {},
   "source": [
    "Now we will add a new column for absolute magnitude, `Mv` to our existing M22 dataframe. Use your new `absmagcalc` function to calculate the absolute magnitudes from the distance and existing apparent V magnitude column, and provide the output for this new column below:"
   ]
  },
  {
   "cell_type": "code",
   "execution_count": null,
   "metadata": {
    "collapsed": false
   },
   "outputs": [],
   "source": [
    "# Edit to continue this calculation using the absmagcalc function you defined\n",
    "m22['Mv'] = "
   ]
  },
  {
   "cell_type": "markdown",
   "metadata": {},
   "source": [
    "In the cell below, check your dataframe to see if it has been updated with the new column:"
   ]
  },
  {
   "cell_type": "code",
   "execution_count": null,
   "metadata": {
    "collapsed": false
   },
   "outputs": [],
   "source": [
    "# Check the dataframe again -- do you have all the columns you need?\n"
   ]
  },
  {
   "cell_type": "markdown",
   "metadata": {},
   "source": [
    "We are now ready to plot!\n",
    "\n",
    "### Plotting from a pandas dataframe\n",
    "\n",
    "Using the _matplotlib.pyplot_ skills we learned last week, we can now plot our first color magnitude diagram. One convenient aspect of pandas is that we can plot columns taken directly from the dataframe itself. For example, for M22:\n",
    "* the X-axis is the series: `m22['BVcolor']` \n",
    "* the Y-axis is the series: `m22['Mv']`\n",
    "\n",
    "In the following exercises, you will plot a color-magnitude diagram for M22, and then load and manipulate new pandas dataframes for two open clusters and a globular cluster. "
   ]
  },
  {
   "cell_type": "markdown",
   "metadata": {},
   "source": [
    "# Exercise 1\n",
    "\n",
    "Plot the V vs. B-V color-magnitude diagram for M22. Scale the plot as necessary to show all of the data clearly (there are a lot of data points, so you may want to make the symbols small using _markersize = 3_ or another size). Don't forget to add axes labels+units and a title. \n",
    "\n",
    "Hint #1: When scaling the axes, think about how this plot is analogous to the H-R diagrams from last week. Which way should the axes go?\n",
    "\n",
    "Hint #2: Using a subscript for the Y-axis, you can use M$_{V}$ to indicate absolute magnitude (double-click the cell to see).\n",
    "\n",
    "(For plotting methods, you may find it useful to refer back to Homework0 and Lab1.)"
   ]
  },
  {
   "cell_type": "code",
   "execution_count": null,
   "metadata": {
    "collapsed": false
   },
   "outputs": [],
   "source": [
    "# Plot your data directly from the m22 dataframe below:\n"
   ]
  },
  {
   "cell_type": "markdown",
   "metadata": {},
   "source": [
    "# Exercise 2 (Additional Clusters)\n",
    "\n",
    "Now you will read in the data for the other clusters you downloaded from VizieR at the beginning of the lab and plot these data. For each cluster:\n",
    "1. Comment the datafile as needed\n",
    "2. Load the datafile using pandas (pd.read_csv)\n",
    "3. Calculate the B-V color\n",
    "4. Use your absolute magnitude function to calculate M$_{V}$ from the V mag and the distance to each cluster\n",
    "5. Make plots! (multipanel and overlay)"
   ]
  },
  {
   "cell_type": "code",
   "execution_count": null,
   "metadata": {
    "collapsed": false
   },
   "outputs": [],
   "source": [
    "# Load datafiles into new pandas dataframes. Be sure to check the datatypes -- if necessary, use pd.to_numeric.\n",
    "\n",
    "\n",
    "\n"
   ]
  },
  {
   "cell_type": "code",
   "execution_count": null,
   "metadata": {
    "collapsed": false
   },
   "outputs": [],
   "source": [
    "# Calculate B-V colors for NGC 188 and M67.\n",
    "\n",
    "# Freebie! For M4, the B-V values are already provided in the table -- no need to calculate this one.\n",
    "\n"
   ]
  },
  {
   "cell_type": "code",
   "execution_count": null,
   "metadata": {
    "collapsed": true
   },
   "outputs": [],
   "source": [
    "# Calculate absolute V magnitudes (recall that the distances to each cluster are given earlier in the lab)\n",
    "\n",
    "\n"
   ]
  },
  {
   "cell_type": "code",
   "execution_count": null,
   "metadata": {
    "collapsed": false
   },
   "outputs": [],
   "source": [
    "# Make a multipanel plot showing each of the four clusters. \n",
    "\n",
    "# In each of the panel titles, put the name of the cluster and its type (e.g., \"M22 - globular\"):\n",
    "\n",
    "fig,((ax1,ax2),(ax3,ax4)) = plt.subplots(2, 2, figsize=(10,10))\n",
    "fig.suptitle('Globular and Open Cluster Comparison')\n",
    "# Continue the rest of the plotting below\n"
   ]
  },
  {
   "cell_type": "code",
   "execution_count": null,
   "metadata": {
    "collapsed": false
   },
   "outputs": [],
   "source": [
    "# Make an overlay plot showing all four clusters on the same axes. \n",
    "\n",
    "# Hint: You may want to try plotting the datasets in various orders to make sure all datasets are visible.\n",
    "\n"
   ]
  },
  {
   "cell_type": "markdown",
   "metadata": {
    "collapsed": false
   },
   "source": [
    "# Exercise 3 (Comprehension Questions)\n",
    "\n",
    "<p>1) How do the color-magnitude diagrams (CMDs) you have plotted compare to the H-R diagrams from last week? What features are similar? What features are different?</p>\n",
    "-\n",
    "\n",
    "<p>2) Why do you think there is so much scatter in the observational data? Do you think this is an astrophysical effect or an instrumental one? What are some potential sources of error? </p>\n",
    "-\n",
    "\n",
    "<p>3) Which clusters do you think are older or younger? Rank NGC 188, M4, M22, and M67 by relative age. How can you tell?</p>\n",
    "-\n",
    "\n",
    "\n",
    "<p>4) Why might the main sequences be offset for each of the clusters? (Hint: How would uncertainty in a measured/estimated value shift values up/down on the Y-axis?)</p>\n",
    "-\n",
    "\n",
    "<p>5) Bonus question, if there's time: Earlier, we also calculated a V-I color column for M22. Plot the V vs. V-I CMD for M22. Why do you think the plot looks different from the V vs. B-V one?</p>\n",
    "-"
   ]
  },
  {
   "cell_type": "code",
   "execution_count": null,
   "metadata": {
    "collapsed": false
   },
   "outputs": [],
   "source": [
    "# Bonus Plot"
   ]
  }
 ],
 "metadata": {
  "anaconda-cloud": {},
  "kernelspec": {
   "display_name": "Python 2",
   "language": "python",
   "name": "python2"
  },
  "language_info": {
   "codemirror_mode": {
    "name": "ipython",
    "version": 2
   },
   "file_extension": ".py",
   "mimetype": "text/x-python",
   "name": "python",
   "nbconvert_exporter": "python",
   "pygments_lexer": "ipython2",
   "version": "2.7.12"
  }
 },
 "nbformat": 4,
 "nbformat_minor": 1
}
