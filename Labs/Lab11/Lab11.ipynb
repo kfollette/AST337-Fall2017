{
 "cells": [
  {
   "cell_type": "markdown",
   "metadata": {},
   "source": [
    "# Lab 11 - Curve Fitting and Isochrones\n",
    "## Names:\n",
    "\n",
    "***\n",
    "\n",
    "## Overview\n",
    "\n",
    "In this final lab, we are going to do something a little bit different -- we will try to determine the distance to the Andromeda Galaxy, M31! Along the way, we will learn about fitting relations to data, which you will ultimately compare with your approach to fitting isochrones to your star cluster data in the final project.\n",
    "\n",
    "At the end of the lab, you will download a few isochrones (the same ones to be used for the final project) and plot them to start to understand differences in the HR diagram with age, composition, etc. \n",
    "\n",
    "\n",
    "## Data for this Lab: Cepheid variable star data\n",
    "\n",
    "**Cepheid variable stars** are intrinsic variable stars which pulsate in a predictable way. Furthermore, a Cepheid star's period (how often it pulsates) is directly related to its luminosity or brightness. Cepheid variables are extremely luminous and very distant ones can be observed and measured.\n",
    "\n",
    "![](hst_cepheid_m31.jpg)\n",
    "\n",
    "In this lab, you will work with the datafile `cepheids2.dat`, which should be in the same folder you pulled from Github. This file contains a table of data from Sebo et al (2002, ApJS, 142, 71) for 605 Cepheid variable stars in the Large Magellanic Cloud (LMC), with the following columns:\n",
    "\n",
    "RAh - Hour of Right Ascension (J2000)  \n",
    "RAm -  Minute of Right Ascension (J2000)  \n",
    "RAs -  Second of Right Ascension (J2000)  \n",
    "DEd - Degree of Declination (J2000)  \n",
    "DEm - Arcminute of Declination (J2000)  \n",
    "DEs - Arcsecond of Declination (J2000)  \n",
    "DelV - Calculated Vmag error  \n",
    "Period - Cepheid period in days  \n",
    "Bmag - The mean phase-weighted B band magnitude  \n",
    "Vmag -  The mean phase-weighted V band magnitude  \n",
    "Rmag - The mean phase-weighted R band magnitude  \n",
    "Imag - The mean phase-weighted I band magnitude  \n",
    "Name - Cepheid name\n",
    "     \n",
    "You will use these data to re-derive the famous Cepheid period-luminosity relation (PLR) pioneered by Henrietta Leavitt over 100 years ago. "
   ]
  },
  {
   "cell_type": "markdown",
   "metadata": {},
   "source": [
    "## 11.1 - Creating and Evaluating a Model: Cepheid Variable Stars\n",
    "\n"
   ]
  },
  {
   "cell_type": "code",
   "execution_count": null,
   "metadata": {
    "collapsed": false
   },
   "outputs": [],
   "source": [
    "# The standard fare\n",
    "import numpy as np\n",
    "import pandas as pd\n",
    "import matplotlib.pyplot as plt\n",
    "import astropy.io.fits as fits\n",
    "import os.path\n",
    "%matplotlib inline"
   ]
  },
  {
   "cell_type": "code",
   "execution_count": null,
   "metadata": {
    "collapsed": false
   },
   "outputs": [],
   "source": [
    "# Use pandas to read in the cepheid data file as a new dataframe. HINT: use \"delim_whitespace = True\".\n",
    "\n",
    "cepheids = "
   ]
  },
  {
   "cell_type": "code",
   "execution_count": null,
   "metadata": {
    "collapsed": false
   },
   "outputs": [],
   "source": [
    "# Examine the data frame - did everything read in correctly?\n",
    "\n",
    "cepheids"
   ]
  },
  {
   "cell_type": "markdown",
   "metadata": {},
   "source": [
    "We will assume that the log of the period of the star's pulsation, `P`, and its apparent magnitude, `V`, follow a linear relationship, and can be given by the form:\n",
    "\n",
    "$V = c_{1} log P + c_{2}$\n",
    "\n",
    "Where $c_{1}$ and  $c_{2}$ are simply the parameters for the linear relation."
   ]
  },
  {
   "cell_type": "code",
   "execution_count": null,
   "metadata": {
    "collapsed": true
   },
   "outputs": [],
   "source": [
    "# Add a new dataframe to your column to calculate the log of the period:\n",
    "\n",
    "cepheids['logP'] = "
   ]
  },
  {
   "cell_type": "markdown",
   "metadata": {},
   "source": [
    "In the cell below, plot $V$ (y-axis) vs. $log(P)$ (on the x-axis). Be sure to plot $V$ with brightness increasing upwards! Adjust the scales, labels, etc., as needed."
   ]
  },
  {
   "cell_type": "code",
   "execution_count": null,
   "metadata": {
    "collapsed": false
   },
   "outputs": [],
   "source": [
    "# Your plotting code below\n",
    "\n",
    "\n",
    "\n",
    "\n",
    "\n"
   ]
  },
  {
   "cell_type": "markdown",
   "metadata": {},
   "source": [
    "Now, make an educated guess for what you think would be reasonable estimates for $c_{1}$ (the slope) and $c_{2}$ (the intercept), assuming a linear fit:  \n",
    "\n",
    "$c_{1}$ = \n",
    "\n",
    "$c_{2}$ = "
   ]
  },
  {
   "cell_type": "markdown",
   "metadata": {},
   "source": [
    "### Create a model\n",
    "\n",
    "In the cell below, define the model coefficients for your first estimate of a linear fit, based on the $c_{1}$ and $c_{2}$ values you just guessed. Then, you will use a new function, `np.polyval`, that reads in the coefficients and your x-values (i.e., logP) and provides the y-values for a linear model with those parameters. If you are not sure how to use `np.polyval`, check the docstring."
   ]
  },
  {
   "cell_type": "code",
   "execution_count": null,
   "metadata": {
    "collapsed": true
   },
   "outputs": [],
   "source": [
    "coeffs = [??, ??] # c1, c2, your estimates here\n",
    "\n",
    "Vfit = # use np.polyval here to calculate the model y-values, that is, f(x_i). Form is np.polyval(coeffs, your_x_data)"
   ]
  },
  {
   "cell_type": "markdown",
   "metadata": {},
   "source": [
    "In the cell below, re-plot the Cepheid data as before, but now add the estimated model fit you just calculated. Add labels to each dataset (e.g., `plt.plot(xdata, ydata, format='-', label='model')`) and add a legend using `plt.legend()`."
   ]
  },
  {
   "cell_type": "code",
   "execution_count": null,
   "metadata": {
    "collapsed": false
   },
   "outputs": [],
   "source": [
    "# Replot the data along with the model, adding labels to the datasets and a legend \n",
    "\n",
    "\n",
    "\n"
   ]
  },
  {
   "cell_type": "markdown",
   "metadata": {},
   "source": [
    "By eye, how well does your model fit the data?  \n",
    "**Answer:**"
   ]
  },
  {
   "cell_type": "markdown",
   "metadata": {},
   "source": [
    "### Calculate $\\chi^{2}$ by hand, providing $c_{1}$ and $c_{2}$ values:\n",
    "\n",
    "We will calculate $\\chi^{2}$ explicitly for various combinations of $c_{1}$ and $c_{2}$ values. Recall that the $\\chi^{2}$ statistic is given by:\n",
    "\n",
    "$\\chi^{2}$ = $\\sum\\limits_{i}^{} $ $(\\frac{y_{i} - f(x_{i})}{\\sigma_{y,i}})^{2}$\n",
    "\n",
    "Which column corresponds to $\\sigma_{y,i}$ in your data frame?  \n",
    "**Answer:**\n",
    "\n",
    "\n"
   ]
  },
  {
   "cell_type": "code",
   "execution_count": null,
   "metadata": {
    "collapsed": true
   },
   "outputs": [],
   "source": [
    "# Check dataframe\n",
    "\n"
   ]
  },
  {
   "cell_type": "markdown",
   "metadata": {},
   "source": [
    "In the cell below, now estimate the $\\chi^{2}$ values for the Vfit model data you just created, using `np.sum` to sum over all of the data points."
   ]
  },
  {
   "cell_type": "code",
   "execution_count": null,
   "metadata": {
    "collapsed": false
   },
   "outputs": [],
   "source": [
    "# Calculate chi^2:\n",
    "chi_sq = \n",
    "\n",
    "chi_sq"
   ]
  },
  {
   "cell_type": "markdown",
   "metadata": {
    "collapsed": true
   },
   "source": [
    "### Try some more values of c1, c2:\n",
    "In addition to the pair you just used, run the cells again to try at least three more pairs of c1, c2 values to see how the resulting $\\chi^{2}$ changes. Remember that you want to minimize the value to get the best fit.\n",
    "\n",
    "| $c_{1}$ | $c_{2}$ |  $\\chi^{2}$  |\n",
    "|---------|---------|--------------|\n",
    "|    ##   |    ##   |      ##      |\n",
    "|    ##   |    ##   |      ##      |\n",
    "|    ##   |    ##   |      ##      |\n",
    "|    ##   |    ##   |      ##      |\n"
   ]
  },
  {
   "cell_type": "markdown",
   "metadata": {},
   "source": [
    "Finally, use your best-fit values and make a plot of the residuals $r_{i}$ -- that is, the differences between your model points and data points, $y_{i} - f(x_{i})$. Plot this as a function of `logP`. We will do this twice -- once for your best $\\chi^{2}$ value, and again for the worst $\\chi^{2}$ value."
   ]
  },
  {
   "cell_type": "code",
   "execution_count": null,
   "metadata": {
    "collapsed": false
   },
   "outputs": [],
   "source": [
    "# Make a residual plot - plot residuals from best fit here:\n",
    "\n",
    "\n"
   ]
  },
  {
   "cell_type": "code",
   "execution_count": null,
   "metadata": {
    "collapsed": true
   },
   "outputs": [],
   "source": [
    "# Make a residual plot - plot residuals from worst fit here:\n",
    "\n",
    "\n"
   ]
  },
  {
   "cell_type": "markdown",
   "metadata": {},
   "source": [
    "Now, instead of our guess-and-check approach so far, we will let python do the heavy lifting. Look closely at the comments in the code below to understand how it works. `curve_fit` returns two variables. The first is a list of best-fitting model parameters, and the second is the _covariance matrix_, which we won't delve into, but you can assume it is a matrix whose diagonal contains the uncertainties on our fit.\n",
    "\n",
    "The only place you need to modify in the cell below is the initial guess, `p0`."
   ]
  },
  {
   "cell_type": "code",
   "execution_count": null,
   "metadata": {
    "collapsed": true
   },
   "outputs": [],
   "source": [
    "def linear_func(x, m, b):\n",
    "    \"\"\"\n",
    "    Function to calculate a straight line.\n",
    "    \n",
    "    Inputs:\n",
    "    x: np.ndarray, float\n",
    "        the positions at which to evaluate the function\n",
    "    m: float\n",
    "        the slope of the straight line\n",
    "    b: float\n",
    "        the intercept of the straight line\n",
    "        \n",
    "    Returns:\n",
    "    np.ndarray, float\n",
    "        the values predicted by our model at positions x\n",
    "    \"\"\"\n",
    "    return m*x + b\n",
    "\n",
    "\n",
    "\n",
    "from scipy.optimize import curve_fit\n",
    "\n",
    "# We need an initial guess for our starting parameters, just like in the version calculated by hand.\n",
    "p0 = [??, ??] # enter some estimates here\n",
    "\n",
    "\"\"\"\n",
    "The actual fitting takes place below --\n",
    "\n",
    "1st argument: function that defines our model\n",
    "2nd and 3rd arguments: our x and y data\n",
    "4th argument: starting guess for the parameters\n",
    "5th argument (optional): the errorbars. Without errors, curve_fit will do \n",
    "                        a sum-of-the-squares statistic instead of chi^2.\n",
    "\"\"\"\n",
    "\n",
    "# Remove infs and nans first, otherwise fit will fail:\n",
    "logP = np.array(cepheids['logP'])\n",
    "Vmag = np.array(cepheids['Vmag'])\n",
    "Verr = np.array(cepheids['DelV'])\n",
    "\n",
    "logP[np.isinf(logP)] = 0\n",
    "Vmag[np.isinf(Vmag)] = 0\n",
    "Verr[np.isinf(Verr)] = 0\n",
    "\n",
    "popt, pcov = curve_fit(linear_func, logP, Vmag, p0)\n",
    "\n",
    "# Print the fits, and use np.diag to pick out the diagonal elements of the covariance matrix.\n",
    "print(popt)\n",
    "print(np.diag(pcov))\n",
    "\n",
    "m, b = popt\n",
    "em, eb = np.diag(pcov)\n",
    "\n",
    "# And we can print it out in a nicer format:\n",
    "print('Slope     = {0:.3f} +/- {1:.3f}'.format(m, em))\n",
    "print('Intercept = {0:.3f} +/- {1:.3f}'.format(b, eb))"
   ]
  },
  {
   "cell_type": "markdown",
   "metadata": {},
   "source": [
    "Now we can compare the results from our best fit and the curve_fit estimate. Below, replot the data, your best fit, and the best fit from the curve_fit analysis on a single figure, with legend. How do they compare?  \n",
    "**Answer**:"
   ]
  },
  {
   "cell_type": "code",
   "execution_count": null,
   "metadata": {
    "collapsed": true
   },
   "outputs": [],
   "source": [
    "# Replot data, along with your best-estimate model and the curve_fit model. Add labels to the datasets and a legend.\n",
    "\n",
    "\n",
    "\n"
   ]
  },
  {
   "cell_type": "markdown",
   "metadata": {},
   "source": [
    "## 11.2 -  Applying a Model: Find the Distance to M31!"
   ]
  },
  {
   "cell_type": "markdown",
   "metadata": {},
   "source": [
    "Knowing that the distance to the Large Magellanic Cloud is $d_{LMC} = 48$ kpc, say you are now Edwin Hubble observing M31, the Andromeda Galaxy, over several weeks in 1923. **You discover a Cepheid variable star!**\n",
    "\n",
    "The newly-found star in M31 has a period $P = 39.81 \\pm 0.01$ days and an average apparent V magnitude $V = 18.61$. How far away is M31?\n",
    "\n",
    "Start by calculating the distance modulus for the LMC, $\\mu = V - M_{V}$:"
   ]
  },
  {
   "cell_type": "code",
   "execution_count": null,
   "metadata": {
    "collapsed": true
   },
   "outputs": [],
   "source": [
    "# Calculate distance modulus here\n",
    "\n",
    "d = 48000. # pc\n",
    "\n",
    "mu_LMC = "
   ]
  },
  {
   "cell_type": "code",
   "execution_count": null,
   "metadata": {
    "collapsed": false
   },
   "outputs": [],
   "source": [
    "mu_LMC"
   ]
  },
  {
   "cell_type": "markdown",
   "metadata": {},
   "source": [
    "Use the period for the new Cepheid in M31 and your derived relation for the LMC in 11.1 to determine the apparent magnitude of the M31 star, if it were located in the LMC."
   ]
  },
  {
   "cell_type": "code",
   "execution_count": null,
   "metadata": {
    "collapsed": true
   },
   "outputs": [],
   "source": [
    "c1 = \n",
    "c2 = \n",
    "V = "
   ]
  },
  {
   "cell_type": "code",
   "execution_count": null,
   "metadata": {
    "collapsed": false
   },
   "outputs": [],
   "source": [
    "V"
   ]
  },
  {
   "cell_type": "markdown",
   "metadata": {},
   "source": [
    "Now use the distance modulus for the LMC to determine $M_{V}$ of a star with that period:"
   ]
  },
  {
   "cell_type": "code",
   "execution_count": null,
   "metadata": {
    "collapsed": true
   },
   "outputs": [],
   "source": [
    "M_V = "
   ]
  },
  {
   "cell_type": "code",
   "execution_count": null,
   "metadata": {
    "collapsed": false
   },
   "outputs": [],
   "source": [
    "MV"
   ]
  },
  {
   "cell_type": "markdown",
   "metadata": {},
   "source": [
    "Finally, use the actual apparent magnitude of the M31 Cepheid to determine the distance to M31 in parsecs:"
   ]
  },
  {
   "cell_type": "code",
   "execution_count": null,
   "metadata": {
    "collapsed": false
   },
   "outputs": [],
   "source": [
    "d_M31 = \n",
    "\n",
    "d_M31"
   ]
  },
  {
   "cell_type": "markdown",
   "metadata": {},
   "source": [
    "With a quick query to Google, what is the actual distance to M31 in parsecs?"
   ]
  },
  {
   "cell_type": "code",
   "execution_count": null,
   "metadata": {
    "collapsed": false
   },
   "outputs": [],
   "source": [
    "d_M31_actual = \n",
    "\n",
    "d_M31_actual"
   ]
  },
  {
   "cell_type": "markdown",
   "metadata": {},
   "source": [
    "In the cell below, calculate the percent error on your measurement compared to the actual distance to M31. How did you do?"
   ]
  },
  {
   "cell_type": "code",
   "execution_count": null,
   "metadata": {
    "collapsed": false
   },
   "outputs": [],
   "source": [
    "# what's the percent error?\n",
    "error = \n",
    "\n",
    "error"
   ]
  },
  {
   "cell_type": "markdown",
   "metadata": {},
   "source": [
    "## 11.3 - Working with Isochrone Data"
   ]
  },
  {
   "cell_type": "markdown",
   "metadata": {},
   "source": [
    "In this directory, there are six different isochrone files at a variety of ages. **Note** that they are all the same stellar composition -- for the final project, you will also have access to different isochrones with various metallicities on Moodle.\n",
    "\n",
    "Read the isochrone datasets into separate pandas dataframes:\n"
   ]
  },
  {
   "cell_type": "code",
   "execution_count": null,
   "metadata": {
    "collapsed": true
   },
   "outputs": [],
   "source": [
    "# Read in data files\n",
    "\n"
   ]
  },
  {
   "cell_type": "markdown",
   "metadata": {},
   "source": [
    "Now, plot color-magnitude diagrams from the isochrone dataframes. Use the same filters as you're using for the final project (e.g., V vs. V-R, R vs. R-I, etc). You may have to add new columns to the dataframes to calculate the necessary quantities. Plot all six isochrones on the same figure, using color-coding and indicating the ages with labels and a legend.\n",
    "\n"
   ]
  },
  {
   "cell_type": "code",
   "execution_count": null,
   "metadata": {
    "collapsed": true
   },
   "outputs": [],
   "source": [
    "# Your multi-isochrone figure here\n",
    "\n"
   ]
  },
  {
   "cell_type": "markdown",
   "metadata": {},
   "source": [
    "Describe the isochrones qualitatively. What are the major differences between the different ages?    \n",
    "**Answer**:\n",
    "\n",
    "\n",
    "What stages of stellar evolution are present?  \n",
    "**Answer**:\n",
    "\n",
    "\n",
    "What mass range of stars are we exploring?  \n",
    "**Answer**:"
   ]
  },
  {
   "cell_type": "markdown",
   "metadata": {},
   "source": [
    "Finally, load in your calibrated M52 data from last week, and include the color-magnitude data on your multi-isochrone plot."
   ]
  },
  {
   "cell_type": "code",
   "execution_count": null,
   "metadata": {
    "collapsed": true
   },
   "outputs": [],
   "source": [
    "# Load in last week's M52 data that you used to make a CMD, and plot the isochrones on top\n",
    "\n"
   ]
  },
  {
   "cell_type": "markdown",
   "metadata": {},
   "source": [
    "Now, select one isochrone and add X- and Y- shifts as need when plotting to try to align the isochrone with the M52 data. By how much did you have to shift in each axis?  \n",
    "**Answer**:"
   ]
  },
  {
   "cell_type": "code",
   "execution_count": null,
   "metadata": {
    "collapsed": true
   },
   "outputs": [],
   "source": [
    "# Replot, with just one isochrone, shifted to fit."
   ]
  },
  {
   "cell_type": "markdown",
   "metadata": {},
   "source": [
    "Unfortunately, isochrones do not have a nice analytical form like the linear relations we've been fitting. (Stars are complex!) For the final project, you will repeat the process above for your own cluster data -- a \"chi-by-eye\" approach -- but will also quantify this with an estimate of the chi^2 value in one axis."
   ]
  }
 ],
 "metadata": {
  "kernelspec": {
   "display_name": "Python 2",
   "language": "python",
   "name": "python2"
  },
  "language_info": {
   "codemirror_mode": {
    "name": "ipython",
    "version": 2
   },
   "file_extension": ".py",
   "mimetype": "text/x-python",
   "name": "python",
   "nbconvert_exporter": "python",
   "pygments_lexer": "ipython2",
   "version": "2.7.12"
  }
 },
 "nbformat": 4,
 "nbformat_minor": 0
}
