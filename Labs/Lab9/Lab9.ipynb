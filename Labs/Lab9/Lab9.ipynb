{
 "cells": [
  {
   "cell_type": "code",
   "execution_count": 6,
   "metadata": {
    "collapsed": false
   },
   "outputs": [],
   "source": [
    "# The standard fare:\n",
    "import numpy as np\n",
    "import matplotlib.pyplot as plt\n",
    "import pandas as pd\n",
    "%matplotlib inline\n",
    "from astropy.io import fits \n",
    "import astropy.stats as stat\n",
    "\n",
    "from photutils import aperture_photometry, CircularAperture, CircularAnnulus, DAOStarFinder"
   ]
  },
  {
   "cell_type": "markdown",
   "metadata": {},
   "source": [
    "# Lab 9 - Aperture Photometry with Python Photutils\n",
    "\n",
    "## 9.1 - Getting Started\n",
    "\n",
    "The goal of this lab is to teach you how to extract aperture photometry for all of the stars in a given image. Although the extraction itself is automated, there is some art to setting the parameters for extraction, and this lab is designed to teach you to choose these in an intelligent, data-driven way. \n",
    "\n",
    "To start we need to read in a raw image to work with. "
   ]
  },
  {
   "cell_type": "code",
   "execution_count": 57,
   "metadata": {
    "collapsed": true
   },
   "outputs": [],
   "source": [
    "#as an example, let's load in a randomly-selected raw Smith R band image\n",
    "image = fits.getdata('M52-007_R.fit')"
   ]
  },
  {
   "cell_type": "markdown",
   "metadata": {},
   "source": [
    "We will be using a python package called photutils, which is based on an old IRAF package of the same name. One of the key functions within this package is the DAOStarFinder function, which we'll just call \"the star finder\" here.\n",
    "\n",
    "The star finder will extract sources, defined as some multiple (which you provide) of the background/sky level, so first we need to get a reasonable estimate of the background level. This is done using the function mad_std from the astropy.stats package, as below. "
   ]
  },
  {
   "cell_type": "code",
   "execution_count": 25,
   "metadata": {
    "collapsed": false
   },
   "outputs": [
    {
     "name": "stdout",
     "output_type": "stream",
     "text": [
      "16.3086244036\n"
     ]
    }
   ],
   "source": [
    "from astropy.stats import mad_std\n",
    "bkg_sigma = mad_std(image)\n",
    "print(bkg_sigma)"
   ]
  },
  {
   "cell_type": "code",
   "execution_count": 58,
   "metadata": {
    "collapsed": false
   },
   "outputs": [
    {
     "name": "stdout",
     "output_type": "stream",
     "text": [
      "313.858966808\n"
     ]
    }
   ],
   "source": [
    "print(np.std(image))"
   ]
  },
  {
   "cell_type": "markdown",
   "metadata": {},
   "source": [
    "### Exercise 1. Use the resources (docstrings, wikipedia, other functions) at your disposal to answer the following questions in the cell below.  \n",
    "1. What does the mad_std function do?\n",
    "2. How is it different from the more typical np.std function? How different are the answers in these two cases, and why?  "
   ]
  },
  {
   "cell_type": "markdown",
   "metadata": {},
   "source": [
    "***Your answers go here***"
   ]
  },
  {
   "cell_type": "markdown",
   "metadata": {},
   "source": [
    "## 9.2 - Extracting Stars\n",
    "\n",
    "The star finder requires two parameters to extract stars in the image:  \n",
    "\n",
    "1) The threshhold, which we will define as some number of background levels, above which we will call something a star    \n",
    "2) An estimate for the FWHM of point-sources (stars) in the image  \n",
    "\n",
    "### Exercise 2\n",
    "To start, estimate the FWHM of the stars in your image using pyraf's imexam functions, as you did in Lab 8. Measure the FWHM for at least 10 stars and average them. In the cell below, paste the imexam output and calculate the average of the measurements in the cell below that. Insert your calculated average FWHM in the third cell below.  "
   ]
  },
  {
   "cell_type": "markdown",
   "metadata": {},
   "source": [
    "***insert imexam output here***"
   ]
  },
  {
   "cell_type": "code",
   "execution_count": 30,
   "metadata": {
    "collapsed": true
   },
   "outputs": [],
   "source": [
    "#insert calculation of average FWHM here"
   ]
  },
  {
   "cell_type": "code",
   "execution_count": 32,
   "metadata": {
    "collapsed": false
   },
   "outputs": [],
   "source": [
    "#FWHM= this is a placeholder. INSERT YOUR VALUE IN PLACE OF 10 BELOW\n",
    "FWHM=10"
   ]
  },
  {
   "cell_type": "markdown",
   "metadata": {},
   "source": [
    "We also need to set the threshhold (described above) for star finder, which we define as some multiple (nsigma) of the background level. To start, let's set nsigma to 10, meaning that in order for somehting to be considered a star, it must have at least 10x the detector counts of the background level. \n",
    "\n",
    "The next several lines below set up the parameters for the star finder (by specifying the FWHM and threshhold parameters), apply the star finder to the image, and then extract and print the number of sources."
   ]
  },
  {
   "cell_type": "code",
   "execution_count": 59,
   "metadata": {
    "collapsed": false
   },
   "outputs": [
    {
     "data": {
      "text/plain": [
       "665"
      ]
     },
     "execution_count": 59,
     "metadata": {},
     "output_type": "execute_result"
    }
   ],
   "source": [
    "nsigma=10\n",
    "daofind = DAOStarFinder(fwhm=FWHM, threshold=nsigma*bkg_sigma)\n",
    "sources = daofind(image)\n",
    "nstars=len(sources)\n",
    "nstars"
   ]
  },
  {
   "cell_type": "markdown",
   "metadata": {},
   "source": [
    "To check how well we're doing here, we need to be able to see how the sources that were automatically extracted line up with apparent sources in the image. To do so, we are going to write the information that star finder extracted from the sources it found into a DS9 region file, so that we can load it with the image. DS9 region files are text files where each line contains the following basic info:  \n",
    "regiontype xcen ycen FWHM  \n",
    "\n",
    "The code below writes the relevant outpt from daofind into a text file with this format. "
   ]
  },
  {
   "cell_type": "code",
   "execution_count": 36,
   "metadata": {
    "collapsed": true
   },
   "outputs": [],
   "source": [
    "xpos = np.array(sources['xcentroid'])\n",
    "ypos = np.array(sources['ycentroid'])\n",
    "f = open('M52_R.reg', 'w') #you will need to change the first input if you want to write to a different filename later\n",
    "for i in range(0,len(xpos)):\n",
    "    f.write('circle '+str(xpos[i])+' '+str(ypos[i])+' '+str(FWHM)+'\\n')\n",
    "f.close()"
   ]
  },
  {
   "cell_type": "markdown",
   "metadata": {},
   "source": [
    "To display this region file, you should open the science image in DS9, then click Region --> Load Regions and navigate to the .reg file above. When you load it, you will see green circles appear on top of all of the stars that the Star Finder has extracted. Place a screenshot of this overlay in the cell below. "
   ]
  },
  {
   "cell_type": "markdown",
   "metadata": {},
   "source": [
    "***DS9 screenshot goes here***"
   ]
  },
  {
   "cell_type": "markdown",
   "metadata": {},
   "source": [
    "### Exercise 3 \n",
    "\n",
    "Using the **median-combined V and R images that you generated for Homework 9**, answer the following questions. Include code, screenshots, etc. to support your argument, and add cells below as needed to do calculations, generate new region files, etc.  \n",
    "1) How many sources can you extract at V and R for nsigma=10 from your median-combined images? How much does the number of sources vary between the two wavelengths and why, do you think?  \n",
    "2) How different are the number of extracted stars in the raw R image you used in the example vs. the reduced and median combined R image that you generated for your homework? Name at least one potential reason why they are different, and find an example in the images that shows it.  \n",
    "*Hint: An example really means a source that was identified in one image and not the other. Remember you can load multiple images in DS9, and can load a separate region file in each. Zoom in on your discrpant source. To match the zoom level and location between the two images, select Frame --> Match --> Frame --> Physical.*  \n",
    "3) For one of your images (V or R), discuss how the number of extracted sources changes when you change the nsigma threshhold. Make an argument based on the images for what you think the most reasonable limit is for this data.    "
   ]
  },
  {
   "cell_type": "markdown",
   "metadata": {},
   "source": [
    "#### 1. Problem 1 explanation and images go here"
   ]
  },
  {
   "cell_type": "code",
   "execution_count": 60,
   "metadata": {
    "collapsed": true
   },
   "outputs": [],
   "source": [
    "#problem 1 code goes here"
   ]
  },
  {
   "cell_type": "markdown",
   "metadata": {},
   "source": [
    "#### 2. Problem 2 explanation and images go here"
   ]
  },
  {
   "cell_type": "code",
   "execution_count": 61,
   "metadata": {
    "collapsed": true
   },
   "outputs": [],
   "source": [
    "#problem 2 code goes here"
   ]
  },
  {
   "cell_type": "markdown",
   "metadata": {},
   "source": [
    "#### 3. Problem 3 explanation and images go here"
   ]
  },
  {
   "cell_type": "code",
   "execution_count": null,
   "metadata": {
    "collapsed": true
   },
   "outputs": [],
   "source": [
    "#problem 3 code goes here"
   ]
  },
  {
   "cell_type": "markdown",
   "metadata": {},
   "source": [
    "### 9.3 - Aperture Photometry\n",
    "\n",
    "The next step is to actually extract the photometry, and here too there is some art to choosing parameters. Although photutils will extract the photometry for each star in an automated way, you need to intelligently choose the parameters based on your data.  \n",
    "\n",
    "The tunable parameters are:\n",
    "1. the aperture radius inside of which to count the flux from the star\n",
    "2. the inner and outer radius of the sky aperture. The annulus defined by these two numbers needs to be large enough to get a good measurement of the background level, but small enough to generally avoid confusion with other nearby sources. \n",
    "\n",
    "We'll start with some potentially reasonable values for these parameters. "
   ]
  },
  {
   "cell_type": "code",
   "execution_count": 62,
   "metadata": {
    "collapsed": true
   },
   "outputs": [],
   "source": [
    "aprad = 8\n",
    "skyin=10\n",
    "skyout=15"
   ]
  },
  {
   "cell_type": "markdown",
   "metadata": {},
   "source": [
    "### Exercise 4\n",
    "\n",
    "For each of the next two cells, write a comment describing what each line is doing in the line above it. "
   ]
  },
  {
   "cell_type": "code",
   "execution_count": 55,
   "metadata": {
    "collapsed": false
   },
   "outputs": [
    {
     "data": {
      "text/html": [
       "&lt;QTable length=665&gt;\n",
       "<table id=\"table103570282480\" class=\"table-striped table-bordered table-condensed\">\n",
       "<thead><tr><th>id</th><th>xcenter</th><th>ycenter</th><th>aperture_sum_0</th><th>aperture_sum_1</th></tr></thead>\n",
       "<thead><tr><th></th><th>pix</th><th>pix</th><th></th><th></th></tr></thead>\n",
       "<thead><tr><th>int64</th><th>float64</th><th>float64</th><th>float64</th><th>float64</th></tr></thead>\n",
       "<tr><td>1</td><td>4.616470368277521</td><td>4.589495379459705</td><td>181721.467793</td><td>179962.293757</td></tr>\n",
       "<tr><td>2</td><td>3066.4115775465925</td><td>4.571913537362626</td><td>182439.204788</td><td>181024.019525</td></tr>\n",
       "<tr><td>3</td><td>2320.676188623667</td><td>6.243823887119223</td><td>286271.490439</td><td>329501.698746</td></tr>\n",
       "<tr><td>4</td><td>2978.149132135598</td><td>7.3140943957772215</td><td>331345.579822</td><td>352772.149364</td></tr>\n",
       "<tr><td>5</td><td>1035.0488662620041</td><td>9.167955843784714</td><td>445499.307939</td><td>397231.92137</td></tr>\n",
       "<tr><td>6</td><td>2997.6160599584273</td><td>14.004456164365937</td><td>253586.352161</td><td>486845.114856</td></tr>\n",
       "<tr><td>7</td><td>1482.9425840919193</td><td>28.934800099868003</td><td>249162.065464</td><td>474827.73854</td></tr>\n",
       "<tr><td>8</td><td>1547.1334700388818</td><td>32.245483880448404</td><td>420492.87616</td><td>496756.723371</td></tr>\n",
       "<tr><td>9</td><td>2574.0163939625772</td><td>34.65710765630925</td><td>7369252.96349</td><td>1632307.95996</td></tr>\n",
       "<tr><td>...</td><td>...</td><td>...</td><td>...</td><td>...</td></tr>\n",
       "<tr><td>656</td><td>329.60617785740413</td><td>2002.9208059207845</td><td>254343.899392</td><td>471637.62105</td></tr>\n",
       "<tr><td>657</td><td>1362.682594596499</td><td>2010.9209270397196</td><td>250957.942831</td><td>474503.949623</td></tr>\n",
       "<tr><td>658</td><td>2634.4776112163777</td><td>2014.7501240149975</td><td>249358.057919</td><td>472717.99751</td></tr>\n",
       "<tr><td>659</td><td>2256.255446461125</td><td>2017.0573852696452</td><td>269079.983732</td><td>476947.424678</td></tr>\n",
       "<tr><td>660</td><td>798.8862379036976</td><td>2018.414939764279</td><td>286685.263118</td><td>479311.699603</td></tr>\n",
       "<tr><td>661</td><td>2556.2477603481702</td><td>2019.3808400971914</td><td>251761.633482</td><td>472970.728321</td></tr>\n",
       "<tr><td>662</td><td>1689.3415858444719</td><td>2028.0481452777492</td><td>265055.616388</td><td>476851.961822</td></tr>\n",
       "<tr><td>663</td><td>4.618151368543499</td><td>2041.3800240373994</td><td>180543.875526</td><td>179358.277753</td></tr>\n",
       "<tr><td>664</td><td>1290.4215765900017</td><td>2041.9870000713547</td><td>330594.515438</td><td>303311.052491</td></tr>\n",
       "<tr><td>665</td><td>3066.390961153876</td><td>2041.4365135497503</td><td>181459.508517</td><td>180566.947525</td></tr>\n",
       "</table>"
      ],
      "text/plain": [
       "<QTable length=665>\n",
       "  id       xcenter            ycenter       aperture_sum_0 aperture_sum_1\n",
       "             pix                pix                                      \n",
       "int64      float64            float64          float64        float64    \n",
       "----- ------------------ ------------------ -------------- --------------\n",
       "    1  4.616470368277521  4.589495379459705  181721.467793  179962.293757\n",
       "    2 3066.4115775465925  4.571913537362626  182439.204788  181024.019525\n",
       "    3  2320.676188623667  6.243823887119223  286271.490439  329501.698746\n",
       "    4  2978.149132135598 7.3140943957772215  331345.579822  352772.149364\n",
       "    5 1035.0488662620041  9.167955843784714  445499.307939   397231.92137\n",
       "    6 2997.6160599584273 14.004456164365937  253586.352161  486845.114856\n",
       "    7 1482.9425840919193 28.934800099868003  249162.065464   474827.73854\n",
       "    8 1547.1334700388818 32.245483880448404   420492.87616  496756.723371\n",
       "    9 2574.0163939625772  34.65710765630925  7369252.96349  1632307.95996\n",
       "  ...                ...                ...            ...            ...\n",
       "  656 329.60617785740413 2002.9208059207845  254343.899392   471637.62105\n",
       "  657  1362.682594596499 2010.9209270397196  250957.942831  474503.949623\n",
       "  658 2634.4776112163777 2014.7501240149975  249358.057919   472717.99751\n",
       "  659  2256.255446461125 2017.0573852696452  269079.983732  476947.424678\n",
       "  660  798.8862379036976  2018.414939764279  286685.263118  479311.699603\n",
       "  661 2556.2477603481702 2019.3808400971914  251761.633482  472970.728321\n",
       "  662 1689.3415858444719 2028.0481452777492  265055.616388  476851.961822\n",
       "  663  4.618151368543499 2041.3800240373994  180543.875526  179358.277753\n",
       "  664 1290.4215765900017 2041.9870000713547  330594.515438  303311.052491\n",
       "  665  3066.390961153876 2041.4365135497503  181459.508517  180566.947525"
      ]
     },
     "execution_count": 55,
     "metadata": {},
     "output_type": "execute_result"
    }
   ],
   "source": [
    "#add comments to this cell\n",
    "starapertures = CircularAperture((xpos,ypos),r=aprad)\n",
    "skyannuli = CircularAnnulus((xpos,ypos),r_in=skyin,r_out=skyout)\n",
    "phot_apers = [starapertures, skyannuli]\n",
    "phot_table = aperture_photometry(image,phot_apers)\n",
    "phot_table"
   ]
  },
  {
   "cell_type": "code",
   "execution_count": 56,
   "metadata": {
    "collapsed": false
   },
   "outputs": [
    {
     "data": {
      "text/html": [
       "&lt;QTable length=665&gt;\n",
       "<table id=\"table103570282480\" class=\"table-striped table-bordered table-condensed\">\n",
       "<thead><tr><th>id</th><th>xcenter</th><th>ycenter</th><th>aperture_sum_0</th><th>aperture_sum_1</th><th>background subtracted star counts</th></tr></thead>\n",
       "<thead><tr><th></th><th>pix</th><th>pix</th><th></th><th></th><th></th></tr></thead>\n",
       "<thead><tr><th>int64</th><th>float64</th><th>float64</th><th>float64</th><th>float64</th><th>float64</th></tr></thead>\n",
       "<tr><td>1</td><td>4.616470368277521</td><td>4.589495379459705</td><td>181721.467793</td><td>179962.293757</td><td>89580.7733894</td></tr>\n",
       "<tr><td>2</td><td>3066.4115775465925</td><td>4.571913537362626</td><td>182439.204788</td><td>181024.019525</td><td>89754.9067907</td></tr>\n",
       "<tr><td>3</td><td>2320.676188623667</td><td>6.243823887119223</td><td>286271.490439</td><td>329501.698746</td><td>117566.620681</td></tr>\n",
       "<tr><td>4</td><td>2978.149132135598</td><td>7.3140943957772215</td><td>331345.579822</td><td>352772.149364</td><td>150726.239348</td></tr>\n",
       "<tr><td>5</td><td>1035.0488662620041</td><td>9.167955843784714</td><td>445499.307939</td><td>397231.92137</td><td>242116.564197</td></tr>\n",
       "<tr><td>6</td><td>2997.6160599584273</td><td>14.004456164365937</td><td>253586.352161</td><td>486845.114856</td><td>4321.65335521</td></tr>\n",
       "<tr><td>7</td><td>1482.9425840919193</td><td>28.934800099868003</td><td>249162.065464</td><td>474827.73854</td><td>6050.2633311</td></tr>\n",
       "<tr><td>8</td><td>1547.1334700388818</td><td>32.245483880448404</td><td>420492.87616</td><td>496756.723371</td><td>166153.433794</td></tr>\n",
       "<tr><td>9</td><td>2574.0163939625772</td><td>34.65710765630925</td><td>7369252.96349</td><td>1632307.95996</td><td>6533511.28799</td></tr>\n",
       "<tr><td>...</td><td>...</td><td>...</td><td>...</td><td>...</td><td>...</td></tr>\n",
       "<tr><td>656</td><td>329.60617785740413</td><td>2002.9208059207845</td><td>254343.899392</td><td>471637.62105</td><td>12865.4374143</td></tr>\n",
       "<tr><td>657</td><td>1362.682594596499</td><td>2010.9209270397196</td><td>250957.942831</td><td>474503.949623</td><td>8011.92062432</td></tr>\n",
       "<tr><td>658</td><td>2634.4776112163777</td><td>2014.7501240149975</td><td>249358.057919</td><td>472717.99751</td><td>7326.44319444</td></tr>\n",
       "<tr><td>659</td><td>2256.255446461125</td><td>2017.0573852696452</td><td>269079.983732</td><td>476947.424678</td><td>24882.902297</td></tr>\n",
       "<tr><td>660</td><td>798.8862379036976</td><td>2018.414939764279</td><td>286685.263118</td><td>479311.699603</td><td>41277.6729211</td></tr>\n",
       "<tr><td>661</td><td>2556.2477603481702</td><td>2019.3808400971914</td><td>251761.633482</td><td>472970.728321</td><td>9600.62058152</td></tr>\n",
       "<tr><td>662</td><td>1689.3415858444719</td><td>2028.0481452777492</td><td>265055.616388</td><td>476851.961822</td><td>20907.4119353</td></tr>\n",
       "<tr><td>663</td><td>4.618151368543499</td><td>2041.3800240373994</td><td>180543.875526</td><td>179358.277753</td><td>88712.437317</td></tr>\n",
       "<tr><td>664</td><td>1290.4215765900017</td><td>2041.9870000713547</td><td>330594.515438</td><td>303311.052491</td><td>175299.256562</td></tr>\n",
       "<tr><td>665</td><td>3066.390961153876</td><td>2041.4365135497503</td><td>181459.508517</td><td>180566.947525</td><td>89009.2313845</td></tr>\n",
       "</table>"
      ],
      "text/plain": [
       "<QTable length=665>\n",
       "  id       xcenter       ... aperture_sum_1 background subtracted star counts\n",
       "             pix         ...                                                 \n",
       "int64      float64       ...    float64                  float64             \n",
       "----- ------------------ ... -------------- ---------------------------------\n",
       "    1  4.616470368277521 ...  179962.293757                     89580.7733894\n",
       "    2 3066.4115775465925 ...  181024.019525                     89754.9067907\n",
       "    3  2320.676188623667 ...  329501.698746                     117566.620681\n",
       "    4  2978.149132135598 ...  352772.149364                     150726.239348\n",
       "    5 1035.0488662620041 ...   397231.92137                     242116.564197\n",
       "    6 2997.6160599584273 ...  486845.114856                     4321.65335521\n",
       "    7 1482.9425840919193 ...   474827.73854                      6050.2633311\n",
       "    8 1547.1334700388818 ...  496756.723371                     166153.433794\n",
       "    9 2574.0163939625772 ...  1632307.95996                     6533511.28799\n",
       "  ...                ... ...            ...                               ...\n",
       "  656 329.60617785740413 ...   471637.62105                     12865.4374143\n",
       "  657  1362.682594596499 ...  474503.949623                     8011.92062432\n",
       "  658 2634.4776112163777 ...   472717.99751                     7326.44319444\n",
       "  659  2256.255446461125 ...  476947.424678                      24882.902297\n",
       "  660  798.8862379036976 ...  479311.699603                     41277.6729211\n",
       "  661 2556.2477603481702 ...  472970.728321                     9600.62058152\n",
       "  662 1689.3415858444719 ...  476851.961822                     20907.4119353\n",
       "  663  4.618151368543499 ...  179358.277753                      88712.437317\n",
       "  664 1290.4215765900017 ...  303311.052491                     175299.256562\n",
       "  665  3066.390961153876 ...  180566.947525                     89009.2313845"
      ]
     },
     "execution_count": 56,
     "metadata": {},
     "output_type": "execute_result"
    }
   ],
   "source": [
    "#add comments to this cell\n",
    "bkg_mean = phot_table['aperture_sum_1']/skyannuli.area()\n",
    "bkg_starap_sum = bkg_mean * starapertures.area()\n",
    "final_sum = phot_table['aperture_sum_0']-bkg_starap_sum\n",
    "phot_table['background subtracted star counts'] = final_sum\n",
    "phot_table"
   ]
  },
  {
   "cell_type": "markdown",
   "metadata": {},
   "source": [
    "### Exercise 5 -\n",
    "\n",
    "Spend the rest of the lab time investigating what changes about the photometric measurement (background subtracted sky counts caluclated column) when you adjust the tunable parameters (aperture radius and inner/outer sky annulus) and report your findings below. You may wish to examine only a handful of stars in the table and avoid pr (to print just a few rows of a table, see the example below), but make sure the rows you select include stars with a range of brightnesses. You may also wish to make separate versions/copies of the table with different aperture parameters so that you can compare without overwriting. Think in particular about crowded fields and see if you can derive the best parameters for this case as well (identify things in the table with very close values for xcenter and ycenter to find these crowded regions). "
   ]
  },
  {
   "cell_type": "code",
   "execution_count": 65,
   "metadata": {
    "collapsed": false
   },
   "outputs": [
    {
     "data": {
      "text/html": [
       "&lt;QTable length=2&gt;\n",
       "<table id=\"table103569664264\" class=\"table-striped table-bordered table-condensed\">\n",
       "<thead><tr><th>id</th><th>xcenter</th><th>ycenter</th><th>aperture_sum_0</th><th>aperture_sum_1</th><th>background subtracted star counts</th></tr></thead>\n",
       "<thead><tr><th></th><th>pix</th><th>pix</th><th></th><th></th><th></th></tr></thead>\n",
       "<thead><tr><th>int64</th><th>float64</th><th>float64</th><th>float64</th><th>float64</th><th>float64</th></tr></thead>\n",
       "<tr><td>7</td><td>1482.9425840919193</td><td>28.934800099868003</td><td>249162.065464</td><td>474827.73854</td><td>6050.2633311</td></tr>\n",
       "<tr><td>8</td><td>1547.1334700388818</td><td>32.245483880448404</td><td>420492.87616</td><td>496756.723371</td><td>166153.433794</td></tr>\n",
       "</table>"
      ],
      "text/plain": [
       "<QTable length=2>\n",
       "  id       xcenter       ... aperture_sum_1 background subtracted star counts\n",
       "             pix         ...                                                 \n",
       "int64      float64       ...    float64                  float64             \n",
       "----- ------------------ ... -------------- ---------------------------------\n",
       "    7 1482.9425840919193 ...   474827.73854                      6050.2633311\n",
       "    8 1547.1334700388818 ...  496756.723371                     166153.433794"
      ]
     },
     "execution_count": 65,
     "metadata": {},
     "output_type": "execute_result"
    }
   ],
   "source": [
    "#example of printing just a few rows in a table - chosen to be one bright star, one faint\n",
    "phot_table[6:8]"
   ]
  },
  {
   "cell_type": "markdown",
   "metadata": {},
   "source": []
  }
 ],
 "metadata": {
  "anaconda-cloud": {},
  "kernelspec": {
   "display_name": "Python [default]",
   "language": "python",
   "name": "python3"
  },
  "language_info": {
   "codemirror_mode": {
    "name": "ipython",
    "version": 3
   },
   "file_extension": ".py",
   "mimetype": "text/x-python",
   "name": "python",
   "nbconvert_exporter": "python",
   "pygments_lexer": "ipython3",
   "version": "3.5.2"
  }
 },
 "nbformat": 4,
 "nbformat_minor": 1
}
